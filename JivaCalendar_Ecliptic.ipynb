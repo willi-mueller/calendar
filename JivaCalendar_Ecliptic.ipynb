{
  "nbformat": 4,
  "nbformat_minor": 0,
  "metadata": {
    "colab": {
      "name": "JivaCalendar_Ecliptic.ipynb",
      "provenance": [],
      "collapsed_sections": [
        "lmojK3aLhHuL",
        "vrUBS40KhRXs",
        "Vj_RSP72hh3N",
        "WGUr49QUg-E1",
        "HRd5dPKAjXnQ",
        "GtyeSpBy7df7",
        "i0uOpwor5k0i",
        "DM0m6IYr5_Lt",
        "tGNR9WYduxV5",
        "bzr3uEcNLfse",
        "QpQnTgAYShAg",
        "_ZIytMwTVjpZ"
      ]
    },
    "kernelspec": {
      "name": "python3",
      "display_name": "Python 3"
    },
    "language_info": {
      "name": "python"
    }
  },
  "cells": [
    {
      "cell_type": "markdown",
      "metadata": {
        "id": "NWsp4TQ5FGfr"
      },
      "source": [
        "# Introduction\n",
        "\n",
        "The final calendar code will be contained in 2 files. One is labelled JivaCalendar_GCRS and the other JivaCalendar_Ecliptic. This is because there are two ways of doing calculation, and I'm not sure which one the Indian system uses. I think the Ecliptic one is the one we need but I'm keeping both intact for now. "
      ]
    },
    {
      "cell_type": "markdown",
      "metadata": {
        "id": "lmojK3aLhHuL"
      },
      "source": [
        "# Dependencies and Utils"
      ]
    },
    {
      "cell_type": "code",
      "metadata": {
        "colab": {
          "base_uri": "https://localhost:8080/"
        },
        "id": "X4DHyYzqCg06",
        "outputId": "1f0dfc18-7806-481c-9424-60a3091ca665"
      },
      "source": [
        "from astropy import units as u\n",
        "from astropy.time import Time\n",
        "from astropy.coordinates import solar_system_ephemeris, EarthLocation\n",
        "from astropy.coordinates import get_body_barycentric, get_body, get_moon, get_sun\n",
        "from astropy.coordinates import SkyCoord, GCRS, ICRS, Angle, GeocentricTrueEcliptic, GeocentricMeanEcliptic\n",
        "import numpy as np\n",
        "from scipy.optimize import fsolve\n",
        "from datetime import date, timedelta, datetime, time\n",
        "\n",
        "!pip install jplephem\n",
        "from astropy.coordinates import solar_system_ephemeris\n",
        "solar_system_ephemeris.set('jpl')\n",
        "\n",
        "!pip install mathjspy\n",
        "from mathjspy import MathJS\n",
        "mjs = MathJS()"
      ],
      "execution_count": 1,
      "outputs": [
        {
          "output_type": "stream",
          "text": [
            "Requirement already satisfied: jplephem in /usr/local/lib/python3.7/dist-packages (2.15)\n",
            "Requirement already satisfied: numpy in /usr/local/lib/python3.7/dist-packages (from jplephem) (1.19.5)\n",
            "Requirement already satisfied: mathjspy in /usr/local/lib/python3.7/dist-packages (0.0.9)\n"
          ],
          "name": "stdout"
        }
      ]
    },
    {
      "cell_type": "code",
      "metadata": {
        "id": "5lLGU9fpCr9D"
      },
      "source": [
        "## ----------UTILS------------\n",
        "def datetime_to_astropy(date_):\n",
        "  # date_ is a datetime.date object. We want to convert it to astropy.time.Time\n",
        "    return Time(date_.strftime('%Y-%m-%d %H:%M:%S'))\n",
        "\n",
        "def astropy_to_date(t): # Converts only to date. Truncates\n",
        "    date_,time = t.value.split()\n",
        "    year,month,day = [mjs.eval(s) for s in date_.split('-')]\n",
        "    return date(year,month,day)\n",
        "\n",
        "def astropy_to_datetime(t):\n",
        "    date_,time = t.value.split()\n",
        "    year,month,day = [mjs.eval(s) for s in date_.split('-')]\n",
        "    hr,min,sec = [mjs.eval(s) for s in time.split(':')]\n",
        "    return datetime(year,month,day,hr,min,int(sec))\n",
        "\n",
        "Rasi_list = [\"Mesa\",\"Rsabha\",\"Mithuna\",\"Karkataka\",\"Simha\",\"Kanya\",\"Tula\",\"Vrscika\",\"Dhanus\",\"Makara\",\"Kumbha\",\"Meena\"]\n",
        "\n",
        "Maasa_list = [\"Vaisakha\",\"Jyestha\",\"Asadha\",\"Sravana\",\"Bhadrapada\",\"Asvina\",\"Kartika\",\"Mrgashirsha\",\"Pausa\",\"Magha\",\"Phalguna\",\"Caitra\"]\n",
        "\n",
        "Naksatra_list = ['Ashwini', 'Bharani', 'Krittika', 'Rohini', 'Mrighasira', 'Ardra', 'Punarvasu', 'Pushya', 'Ashlesha', 'Magha', \n",
        "                 'Purva Phalguni', 'Uttara Phalguni', 'Hasta', 'Chitra', 'Swati', 'Vishaka', 'Anuradha', 'Jyestha', 'Moola', \n",
        "                 'Purvashada', 'Uttarashada', 'Sharavan', 'Dhanishta', 'Shatabisha', 'Purvabhadra', 'Uttarabhadra', 'Revati']\n",
        "\n",
        "maasa_gaps = [28, 33, 34, 35] \n",
        "# NOTE: I don't actually use this at all. My method is more fundamental, so is more reliable. Read the documentation for more info\n",
        "# The gaps in adhika maasa, in months. \n",
        "# I think they're actually lunar months though, since the mean of the list is exactly 32.5. Predictions also seem to be correct with this assumption.\n",
        "# Source: \"https://sriramgurujala.com/what-is-adhik-maasam-or-adhik-maas-how-do-we-calculate-it/\"\n",
        "\n",
        "lunar_month = 29.5306 #length of lunar month in days\n",
        "\n",
        "coord_Revati_ICRS = SkyCoord(ra='01h13m45.17477s', dec='+7d34m31.2745s', frame='icrs', equinox=Time(2000, format='jyear')) \n",
        "coord_Revati_Ec = coord_Revati_ICRS.transform_to(GeocentricTrueEcliptic()) # Geocentric True Ecliptic coordinates of Revati (Zeta Piscium A)\n",
        "ayanamsa_revati = coord_Revati_Ec.lon\n",
        "#coord_Revati_ICRS = SkyCoord(ra='01h13m45.17477s', dec='+7d34m31.2745s', distance=170*u.lyr, frame='icrs', equinox=Time(2000, format='jyear')) \n",
        "# The coordinate conversions still work even if we don't specify any distance. \n",
        "# Maybe they treat the distance as infinity? Because the resulting GCRS was barely different from ICRS.\n",
        "\n",
        "coord_Spica_ICRS = SkyCoord(ra='13h25m11.579s', dec='−11d09m40.75s', frame='icrs', equinox=Time(2000, format='jyear')) \n",
        "coord_Spica_Ec = coord_Spica_ICRS.transform_to(GeocentricTrueEcliptic())\n",
        "ayanamsa_citrapaksa = coord_Spica_Ec.lon - Angle('180d')"
      ],
      "execution_count": 2,
      "outputs": []
    },
    {
      "cell_type": "markdown",
      "metadata": {
        "id": "vrUBS40KhRXs"
      },
      "source": [
        "# Getting Solar and Lunar Longitudes etc"
      ]
    },
    {
      "cell_type": "code",
      "metadata": {
        "id": "klboRnJ3CzG8"
      },
      "source": [
        "def get_sun_moon_Ec(t = Time(\"J2000\")): # Ec=Ecliptic\n",
        "    m = get_body('moon',t)\n",
        "    m_inf = SkyCoord(ra=m.ra, dec=m.dec, frame='gcrs')\n",
        "    m_ec = m_inf.transform_to(GeocentricTrueEcliptic())\n",
        "\n",
        "    s = get_body('sun',t) \n",
        "    s_inf = SkyCoord(ra=s.ra, dec=s.dec, frame='gcrs')\n",
        "    s_ec = s_inf.transform_to(GeocentricTrueEcliptic())\n",
        "    return m_ec,s_ec\n",
        "\n",
        "def get_angle_tithi_Ec(t= Time(\"J2000\")):\n",
        "    m,s = get_sun_moon_Ec(t=t)\n",
        "\n",
        "    m_ra = m.lon.degree\n",
        "    m_dec = m.lat.degree\n",
        "\n",
        "    s_ra = s.lon.degree\n",
        "    s_dec = s.lat.degree\n",
        "\n",
        "    ms_angle = m_ra - s_ra # moon-sun angle. \n",
        "    ms_angle = ms_angle%360 \n",
        "    tithi = (ms_angle)/12\n",
        "\n",
        "    return ms_angle,tithi"
      ],
      "execution_count": 3,
      "outputs": []
    },
    {
      "cell_type": "markdown",
      "metadata": {
        "id": "Vj_RSP72hh3N"
      },
      "source": [
        "# Finding New Moon and Solving for time"
      ]
    },
    {
      "cell_type": "code",
      "metadata": {
        "id": "xSjEkSV0C4uE"
      },
      "source": [
        "def find_new_moon_Ec(t_approx):\n",
        "    # Find the exact date (+/-1 day) of new moon, given an approximate date. \n",
        "    # Input either in astropy.time.Time or datetime.date\n",
        "    date_ = astropy_to_date(t_approx) # Extracting only the date. No time\n",
        "    t = datetime_to_astropy(date_)\n",
        "    t_af = Time(datetime_to_astropy(date_+timedelta(days=1)))  # one day later\n",
        "    t_af2 = Time(datetime_to_astropy(date_+timedelta(days=2)))  # 2 days later\n",
        "    t_bef = Time(datetime_to_astropy(date_-timedelta(days=1))) # one day before\n",
        "    ang,tit = get_angle_tithi_Ec(t) \n",
        "    ang_bef, tit_bef = get_angle_tithi_Ec(t_bef)\n",
        "    ang_af, tit_af = get_angle_tithi_Ec(t_af)\n",
        "    ang_af2, tit_af2 = get_angle_tithi_Ec(t_af2)\n",
        "\n",
        "    if ang_bef>330 and ang<30:\n",
        "      correct_date = t_bef\n",
        "    elif ang>330 and ang_af<30:\n",
        "      correct_date = t\n",
        "    elif ang_af>330 and ang_af2<30:\n",
        "      correct_date = t_af\n",
        "    else:\n",
        "      return 0\n",
        "    return correct_date\n",
        "\n",
        "def find_new_moon_date_before_Ec(t=Time(\"J2000\")):\n",
        "    # Given a date, find the date the month starts by calculating the nearest earler new_moon\n",
        "    ang,_ = get_angle_tithi_Ec(t)\n",
        "    approx_delta = timedelta(days=ang/360*lunar_month)\n",
        "    approx_date = datetime_to_astropy(astropy_to_date(t)-approx_delta)\n",
        "    exact_date = find_new_moon_Ec(approx_date)\n",
        "    if exact_date==0:\n",
        "        new_approx_date = datetime_to_astropy(astropy_to_date(approx_date) + timedelta(days=-3))\n",
        "        exact_date = find_new_moon_Ec(new_approx_date)\n",
        "    if exact_date==0:\n",
        "        new_approx_date = datetime_to_astropy(astropy_to_date(approx_date) + timedelta(days=+3))\n",
        "        exact_date = find_new_moon_Ec(new_approx_date)\n",
        "    return exact_date\n",
        "\n",
        "def find_new_moon_time_Ec(t=Time(\"J2000\"),accuracy=0.1):\n",
        "    # Using the above two functions,  this one finds the exact new moon date and time. \n",
        "    # accuracy is the maximum angle difference in degrees from 360deg \n",
        "    date_ = find_new_moon_date_before_Ec(t=t)\n",
        "    ang,_ = get_angle_tithi_Ec(date_)\n",
        "    ang = 360 - ang\n",
        "    approx_time = datetime.combine(astropy_to_date(date_),time(0,0,0))\n",
        "    iter = 0\n",
        "    while abs(ang)>accuracy:\n",
        "        iter += 1\n",
        "        if iter>100:\n",
        "            raise Exception(\"Exceeded 100 iterations inside find_new_moon_time\")\n",
        "        approx_delta = timedelta(seconds=ang/360*lunar_month*24*60*60)\n",
        "        approx_time += approx_delta \n",
        "        ang,_ = get_angle_tithi_Ec(t=datetime_to_astropy(approx_time))\n",
        "        \n",
        "        if ang<100:\n",
        "            ang = -ang\n",
        "        else:\n",
        "            ang = 360 - ang\n",
        "        # This if else statement below is so that if moon longitude<sun, then ang>0, else ang>0. \n",
        "        # By default if moon is 2 degrees behind sun, then ang=358. We want that to be 2degrees\n",
        "        # if moon-sun=2degrees then ang=-2\n",
        "        # RETIRING THIS because if moon lon = 359deg, and sun=0.5deg, this causes problems. Eg for the new_moon around 21st Mar, 2099. \n",
        "        #m,s = get_sun_moon_Ec(datetime_to_astropy(approx_time))\n",
        "        #if m.lon<s.lon:   \n",
        "        #  ang = 360 - ang\n",
        "        #else:\n",
        "        #  ang = -ang\n",
        "\n",
        "    return datetime_to_astropy(approx_time)\n",
        "\n"
      ],
      "execution_count": 4,
      "outputs": []
    },
    {
      "cell_type": "code",
      "metadata": {
        "id": "uEUGZ_dfkrTQ"
      },
      "source": [
        "## --------------------NOTE:: Need to build in some method below to avoid error close to 360 degree.\n",
        "def solve_moon_time_Ec(lon,t,accuracy=0.1):\n",
        "    # in the month of t, solve for the time at which sun-moon=lon\n",
        "    nm_date = find_new_moon_time_Ec(t=t) # new_moon date\n",
        "    nm_date = astropy_to_datetime(nm_date)\n",
        "    approx_time = nm_date + timedelta(hours=lon/360*lunar_month*24)\n",
        "    ang,_ = get_angle_tithi_Ec(datetime_to_astropy(approx_time))\n",
        "    del_ang = lon - ang\n",
        "    iter = 0\n",
        "    while abs(del_ang)>accuracy:\n",
        "        iter += 1\n",
        "        if iter>100:\n",
        "            raise Exception(\"Exceeded 100 iterations inside find_new_moon_time\")\n",
        "        approx_delta = timedelta(seconds=del_ang/360*lunar_month*24*60*60)\n",
        "        approx_time += approx_delta \n",
        "        ang,_ = get_angle_tithi_Ec(t=datetime_to_astropy(approx_time))\n",
        "        del_ang = lon-ang\n",
        "    return datetime_to_astropy(approx_time)\n",
        "        # This if else statement below is so that if moon longitude<sun, then ang>0, else ang>0. \n",
        "        # By default if moon is 2 degrees behind sun, then ang=358. We want that to be 2degrees\n",
        "        # if moon-sun=2degrees then ang=-2\n",
        "\n",
        "\n",
        "### The func below is to do the same job but with fsolve. \n",
        "### It does't work because fsolve needs to pass arrays as the input, and datetime etc dont allow that.\n",
        "def find_new_moon_time_fsolve_Ec(t=Time(\"J2000\"),accuracy=1):\n",
        "    # Using the above two functions, find the exact new moon date. \n",
        "    # Then use this one to find the time.\n",
        "    # accuracy is the maximum angle difference in degrees from 360deg \n",
        "    ang,tit = get_angle_tithi_Ec(t)\n",
        "    approx_date = astropy_to_datetime(t) - timedelta(days=ang/360*lunar_month)\n",
        "    print(approx_date)\n",
        "    def ang_solver(t_):\n",
        "      del_ = timedelta(minutes=t_)\n",
        "      ang_,_ = get_angle_tithi_Ec(approx_date+del_)\n",
        "      print(ang_)\n",
        "      return ang_a\n",
        "    \n",
        "    t_solution = fsolve(ang_solver, 0)\n",
        "    datetime_solution =  approx_date + timedelta(t_solution)\n",
        "    print(t_solution)\n",
        "    print(datetime_solution)\n",
        "    #return datetime_to_astropy(approx_time)"
      ],
      "execution_count": 5,
      "outputs": []
    },
    {
      "cell_type": "markdown",
      "metadata": {
        "id": "G6PMWp9mhxmX"
      },
      "source": [
        "# Getting Naksatra and Rasi Longitudes, and Finding Naksatra and Rasi for a given Longitude"
      ]
    },
    {
      "cell_type": "code",
      "metadata": {
        "id": "osuQiKr9DJ3c"
      },
      "source": [
        "def get_ayanamsa(ayanamsa):\n",
        "    # Ayanamsa lookup table\n",
        "    if type(ayanamsa) in [float,int]: return Angle(f\"{ayanamsa}d\")\n",
        "    elif type(ayanamsa)==Angle: return ayanamsa\n",
        "    elif type(ayanamsa)==str: \n",
        "        ayanamsa = ayanamsa.lower()\n",
        "        if ayanamsa in ['lahiri','chitra','citra','spica','citrapaksa','chitrapaksa','citrapaksha','chitrapaksha']:\n",
        "            return ayanamsa_citrapaksa\n",
        "        if ayanamsa in ['revati','zeta piscium','piscium']:\n",
        "            return ayanamsa_revati\n",
        "        else:\n",
        "            raise Exception(\"ayanamsa can be 'citrapaksa' or 'revati'\")\n",
        "    else:\n",
        "        raise Exception(\"ayanamsa must be float, int, string or astropy.coordinates.angles.Angle\")\n",
        "\n",
        "def naksatra_lon_Ec(ayanamsa='citrapaksa'):\n",
        "    # List of Naksatra longitudes (in the ecliptic, so equally spaced). With J2000 equinox as coordinate axis. \n",
        "    # Ayanamsa is the starting point of the Naksatras\n",
        "    ayanamsa = get_ayanamsa(ayanamsa)\n",
        "    diff = Angle('13d20m')\n",
        "    naksatra_lon_list = [(ayanamsa + n*diff)%Angle(\"360d\") for n in range(27)]\n",
        "    return naksatra_lon_list\n",
        "\n",
        "def rasi_lon_Ec(ayanamsa='citrapaksa'):\n",
        "    # List of Rāśi longitudes (in the ecliptic, so equally spaced). With J2000 equinox as coordinate axis, and geocentric origin.\n",
        "    # Ayanamsa is the starting point of the Naksatras\n",
        "    ayanamsa = get_ayanamsa(ayanamsa)\n",
        "    diff = Angle('30d')\n",
        "    rasi_lon = [(ayanamsa + n*diff)%Angle(\"360d\") for n in range(12)]\n",
        "    return rasi_lon\n",
        "\n",
        "# Note that the below functions (to find Naksatra for a given longitude) don't use the above functions to generate a list of \n",
        "# Naksatra longitudes. Just because there is no need to, so just to save time and compute.\n",
        "def find_naksatra_Ec(lon,ayanamsa='citrapaksa'):\n",
        "    if type(lon) in [int,float]: lon = Angle(f\"{lon}d\")\n",
        "    ayanamsa = get_ayanamsa(ayanamsa)\n",
        "    lon = (lon-ayanamsa)%Angle(\"360d\")\n",
        "    num = int(lon/Angle(\"13d20m\"))\n",
        "    nak = Naksatra_list[num]\n",
        "    return num, nak\n",
        "\n",
        "def find_rasi_Ec(lon,ayanamsa='citrapaksa'):\n",
        "    if type(lon) in [int,float]: lon = Angle(f\"{lon}d\")\n",
        "    ayanamsa = get_ayanamsa(ayanamsa)\n",
        "    lon = (lon-ayanamsa)%Angle(\"360d\")\n",
        "    num = int(lon/Angle(\"30d\"))\n",
        "    rasi = Rasi_list[num]\n",
        "    return num, rasi"
      ],
      "execution_count": 6,
      "outputs": []
    },
    {
      "cell_type": "markdown",
      "metadata": {
        "id": "YD9S6RIRiAp_"
      },
      "source": [
        "# High Level Pancanga Functions"
      ]
    },
    {
      "cell_type": "code",
      "metadata": {
        "id": "nJGWHpLMghtR"
      },
      "source": [
        "def find_tithi_start_end(t=Time(\"J2000\"),accuracy=0.01):\n",
        "    datetime_ = astropy_to_datetime(t)\n",
        "    ang,tit = get_angle_tithi_Ec(t)\n",
        "    s_lon = ang - ang%12 # start angle value for the tithi\n",
        "    f_lon = s_lon + 12 # finish angle value for the tithi\n",
        "    if s_lon==0:\n",
        "        s_time = find_new_moon_time_Ec(t=t,accuracy=accuracy)\n",
        "    else:\n",
        "        s_time = solve_moon_time_Ec(s_lon,t,accuracy=accuracy)\n",
        "    f_time = solve_moon_time_Ec(f_lon,t,accuracy=accuracy)\n",
        "    tit = int(s_lon/12)+1\n",
        "    info = f\"tithi containing the time {t}\"\n",
        "    data = {\"tithi\":tit,\"tithi start time\":s_time,\"tithi end time\":f_time}\n",
        "    return {\"info\":info,\"data\":data}\n",
        "\n",
        "def find_masa_start_end_date(t=Time(\"J2000\"),accuracy=0.01,ayanamsa='citrapaksa'):\n",
        "    datetime_s = astropy_to_datetime(t)\n",
        "    time_s = find_new_moon_time_Ec(t,accuracy=accuracy)\n",
        "    datetime_e = astropy_to_datetime(time_s) + timedelta(days=(lunar_month+2)) \n",
        "    time_e = find_new_moon_time_Ec(datetime_to_astropy(datetime_e),accuracy=accuracy)\n",
        "    m,s = get_sun_moon_Ec(time_s)\n",
        "    num,_ = find_rasi_Ec(s.lon,ayanamsa=ayanamsa)\n",
        "    masa = Maasa_list[num]\n",
        "    sun_naksatra = find_naksatra_Ec(s.lon,ayanamsa=ayanamsa)[1]\n",
        "    # sun_naksatra is only correct at the start of the month\n",
        "    info = f\"the māsa containing the time {t}\"\n",
        "    data = {\"masa start time\":time_s,\"masa end time\":time_e,\"masa\": masa,\"sun naksatra at month beginning\": sun_naksatra}\n",
        "    return {\"info\":info,\"data\":data}"
      ],
      "execution_count": 15,
      "outputs": []
    },
    {
      "cell_type": "code",
      "metadata": {
        "id": "loFXuG6aEFgb"
      },
      "source": [
        "def get_pancanga_instant_Ec(t=Time(\"2021-5-31 10:00:00\"),accuracy=0.01,ayanamsa='citrapaksa'):\n",
        "    dict_ = find_masa_start_end_date(t=t,accuracy=accuracy,ayanamsa=ayanamsa)\n",
        "    masa = dict_[\"data\"][\"masa\"]\n",
        "    dict_ = find_tithi_start_end(t=t,accuracy=accuracy)[\"data\"]\n",
        "    tithi, s_time, f_time = dict_[\"tithi\"],dict_[\"tithi start time\"],dict_[\"tithi end time\"]\n",
        "    m,s = get_sun_moon_Ec(t)\n",
        "    _,m_naksatra = find_naksatra_Ec(lon=m.lon,ayanamsa=ayanamsa)\n",
        "    _,s_naksatra = find_naksatra_Ec(lon=s.lon,ayanamsa=ayanamsa)\n",
        "    info = f\"pancanga for the time {t}\"\n",
        "    data = {\"tithi\":tithi,\"masa\":masa,\"moon naksatra\":m_naksatra,\"sun naksatra\":s_naksatra}\n",
        "    return {\"info\":info,\"data\":data}\n",
        "\n",
        "# Combine the function below with the above function\n",
        "def get_pancanga_day_Ec():\n",
        "    return tithi, masa, m_naksatra, s_naksatra, sunrise, sunset, moonrise, moonset"
      ],
      "execution_count": 24,
      "outputs": []
    },
    {
      "cell_type": "code",
      "metadata": {
        "id": "cQFQ4esG4ejX"
      },
      "source": [
        "def generate_pancanga_lunar_month(t=Time(\"2021-5-31 10:00:00\"),accuracy=0.01,ayanamsa='citrapaksa',verbose=True):\n",
        "    nm_time,_,masa,s_nm_nak = find_masa_start_end_date(t=t,accuracy=accuracy,ayanamsa=ayanamsa)\n",
        "    data = [(1,nm_time)]\n",
        "    for i in range(1,30):\n",
        "      if verbose and i%5==0: \n",
        "        print(\"running tithi:\",i+1,\" \"*20)\n",
        "      lon = 12*i\n",
        "      time_ = solve_moon_time_Ec(lon,t,accuracy=accuracy)\n",
        "      data += [(i+1,time_)]\n",
        "    info = {\"This file contains tithis and their start times, for the masa containing the time\":t,\"sun naksatra at month beginning:\":s_nm_nak,\"Maasa:\":masa}\n",
        "    return info,data"
      ],
      "execution_count": 17,
      "outputs": []
    },
    {
      "cell_type": "code",
      "metadata": {
        "colab": {
          "base_uri": "https://localhost:8080/"
        },
        "id": "AnepN255XylC",
        "outputId": "f923b164-ccdf-4316-e1d2-31c4541517ba"
      },
      "source": [
        "get_pancanga_instant_Ec(t=Time(\"2021-5-31 10:00:00\"),accuracy=0.01,ayanamsa='citra')"
      ],
      "execution_count": 25,
      "outputs": [
        {
          "output_type": "execute_result",
          "data": {
            "text/plain": [
              "{'data': {'masa': 'Vaisakha',\n",
              "  'moon naksatra': 'Sharavan',\n",
              "  'sun naksatra': 'Rohini',\n",
              "  'tithi': 21},\n",
              " 'info': 'pancanga for the time 2021-05-31 10:00:00.000'}"
            ]
          },
          "metadata": {
            "tags": []
          },
          "execution_count": 25
        }
      ]
    },
    {
      "cell_type": "markdown",
      "metadata": {
        "id": "WGUr49QUg-E1"
      },
      "source": [
        "# Below I do some unit tests"
      ]
    },
    {
      "cell_type": "code",
      "metadata": {
        "id": "XM8YdlJSelDy"
      },
      "source": [
        "# generating the names and start_time for all months from Jan 1993 to Nov 2028\n",
        "t_initial = datetime(1990,1,15,0,0,0)\n",
        "t = t_initial\n",
        "months = []\n",
        "all_dates = []\n",
        "for i in range(40*12):\n",
        "  if i%12==0: print(i%12+1)\n",
        "  ts,te,mon = find_masa_start_end_date(datetime_to_astropy(t),accuracy=0.01,cor=4.2)\n",
        "  t = te + timedelta(days=3)\n",
        "  months += [mon]\n",
        "  all_dates += [ts] "
      ],
      "execution_count": null,
      "outputs": []
    },
    {
      "cell_type": "code",
      "metadata": {
        "id": "LQEhS82Sk8EI"
      },
      "source": [
        "adhik = []\n",
        "times = []\n",
        "for i,mon in enumerate(months[0:-1]):\n",
        "  nm = months[i+1] \n",
        "  if mon==nm: \n",
        "    adhik += [mon]\n",
        "    times += [all_dates[i]]"
      ],
      "execution_count": null,
      "outputs": []
    },
    {
      "cell_type": "code",
      "metadata": {
        "colab": {
          "base_uri": "https://localhost:8080/"
        },
        "id": "MH9oarbkr-k7",
        "outputId": "f3ff9afa-9240-47fc-bbdf-a28045804bcf"
      },
      "source": [
        "print(\"-------ADHIKA MASA LIST from Jan 1990 to Nov 2028---------\")\n",
        "print(\"------------start time of the month in UTC---------------\")\n",
        "for i,mon in enumerate(adhik):\n",
        "  print(adhik[i],times[i])"
      ],
      "execution_count": null,
      "outputs": [
        {
          "output_type": "stream",
          "text": [
            "-------ADHIKA MASA LIST from Jan 1990 to Nov 2028---------\n",
            "------------start time of the month in UTC---------------\n",
            "Vaisakha 1991-04-14 19:38:22.000\n",
            "Bhadrapada 1993-08-17 19:27:48.000\n",
            "Asadha 1996-06-16 01:35:07.000\n",
            "Jyestha 1999-05-15 12:04:16.000\n",
            "Asvina 2001-09-17 10:26:51.000\n",
            "Sravana 2004-07-17 11:23:15.000\n",
            "Jyestha 2007-05-16 19:26:33.000\n",
            "Vaisakha 2010-04-14 12:27:42.000\n",
            "Bhadrapada 2012-08-17 15:54:01.000\n",
            "Asadha 2015-06-16 14:04:50.000\n",
            "Jyestha 2018-05-15 11:48:38.000\n",
            "Asvina 2020-09-17 10:59:51.000\n",
            "Sravana 2023-07-17 18:31:01.000\n",
            "Jyestha 2026-05-16 20:00:05.000\n"
          ],
          "name": "stdout"
        }
      ]
    },
    {
      "cell_type": "code",
      "metadata": {
        "colab": {
          "base_uri": "https://localhost:8080/"
        },
        "id": "XQHSKUJnwhBv",
        "outputId": "8f76bc96-471f-47ea-efca-bba0587ccad8"
      },
      "source": [
        "# Calculating the entire months containing the dates below\n",
        "big_data = []\n",
        "dates = [\"1993-7-20 13:00\", \"2001-4-20 13:00\", \"2015-9-20 13:00\", \"2021-1-20 13:00\", \"2026-3-20 13:00\", \"2034-6-20 13:00\"]\n",
        "for i,date_ in enumerate(dates):\n",
        "  print(\"RUNNING\",i+1)\n",
        "  info, data = generate_pancanga_lunar_month(Time(date_),accuracy=0.01,verbose=True)\n",
        "  times_a = [p[1] for p in data]\n",
        "  print()\n",
        "  print(f\"The month of {date_}\")\n",
        "  print(info)\n",
        "  print(\"tithi     start time\")\n",
        "  for i in range(1,31):\n",
        "    print(i,times_a[i-1])\n",
        "  print()\n"
      ],
      "execution_count": null,
      "outputs": [
        {
          "output_type": "stream",
          "text": [
            "RUNNING 1\n",
            "running tithi: 6                     \n",
            "running tithi: 11                     \n",
            "running tithi: 16                     \n",
            "running tithi: 21                     \n",
            "running tithi: 26                     \n",
            "\n",
            "The month of 1993-7-20 13:00\n",
            "{'sun naksatra at month beginning:': 'Punarvasu', 'Maasa:': 'Sravana'}\n",
            "tithi     start time\n",
            "1 1993-07-19 11:24:29.000\n",
            "2 1993-07-20 08:53:27.000\n",
            "3 1993-07-21 06:04:51.000\n",
            "4 1993-07-22 03:07:17.000\n",
            "5 1993-07-23 00:09:27.000\n",
            "6 1993-07-23 21:19:08.000\n",
            "7 1993-07-24 18:42:47.000\n",
            "8 1993-07-25 16:25:18.000\n",
            "9 1993-07-26 14:29:54.000\n",
            "10 1993-07-27 12:58:20.000\n",
            "11 1993-07-28 11:51:35.000\n",
            "12 1993-07-29 11:09:03.000\n",
            "13 1993-07-30 10:48:40.000\n",
            "14 1993-07-31 10:53:05.000\n",
            "15 1993-08-01 11:19:05.000\n",
            "16 1993-08-02 12:09:50.000\n",
            "17 1993-08-03 13:24:47.000\n",
            "18 1993-08-04 15:03:34.000\n",
            "19 1993-08-05 17:04:03.000\n",
            "20 1993-08-06 19:21:32.000\n",
            "21 1993-08-07 21:48:10.000\n",
            "22 1993-08-09 00:13:10.000\n",
            "23 1993-08-10 02:23:59.000\n",
            "24 1993-08-11 04:06:11.000\n",
            "25 1993-08-12 05:10:03.000\n",
            "26 1993-08-13 05:27:06.000\n",
            "27 1993-08-14 04:53:22.000\n",
            "28 1993-08-15 03:30:04.000\n",
            "29 1993-08-16 01:22:58.000\n",
            "30 1993-08-16 22:39:08.000\n",
            "\n",
            "RUNNING 2\n",
            "running tithi: 6                     \n",
            "running tithi: 11                     \n",
            "running tithi: 16                     \n",
            "running tithi: 21                     \n",
            "running tithi: 26                     \n",
            "\n",
            "The month of 2001-4-20 13:00\n",
            "{'sun naksatra at month beginning:': 'Uttarabhadra', 'Maasa:': 'Caitra'}\n",
            "tithi     start time\n",
            "1 2001-03-25 01:20:42.000\n",
            "2 2001-03-26 02:16:18.000\n",
            "3 2001-03-27 02:46:25.000\n",
            "4 2001-03-28 02:52:57.000\n",
            "5 2001-03-29 02:37:30.000\n",
            "6 2001-03-30 01:59:36.000\n",
            "7 2001-03-31 01:00:10.000\n",
            "8 2001-03-31 23:38:25.000\n",
            "9 2001-04-01 21:54:22.000\n",
            "10 2001-04-02 19:48:54.000\n",
            "11 2001-04-03 17:21:23.000\n",
            "12 2001-04-04 14:38:37.000\n",
            "13 2001-04-05 11:45:15.000\n",
            "14 2001-04-06 08:49:59.000\n",
            "15 2001-04-07 05:58:44.000\n",
            "16 2001-04-08 03:21:04.000\n",
            "17 2001-04-09 01:08:56.000\n",
            "18 2001-04-09 23:30:00.000\n",
            "19 2001-04-10 22:32:01.000\n",
            "20 2001-04-11 22:21:53.000\n",
            "21 2001-04-12 22:58:10.000\n",
            "22 2001-04-14 00:21:13.000\n",
            "23 2001-04-15 02:21:40.000\n",
            "24 2001-04-16 04:46:47.000\n",
            "25 2001-04-17 07:21:17.000\n",
            "26 2001-04-18 09:49:50.000\n",
            "27 2001-04-19 11:59:23.000\n",
            "28 2001-04-20 13:41:09.000\n",
            "29 2001-04-21 14:48:50.000\n",
            "30 2001-04-22 15:23:16.000\n",
            "\n",
            "RUNNING 3\n",
            "running tithi: 6                     \n",
            "running tithi: 11                     \n",
            "running tithi: 16                     \n",
            "running tithi: 21                     \n",
            "running tithi: 26                     \n",
            "\n",
            "The month of 2015-9-20 13:00\n",
            "{'sun naksatra at month beginning:': 'Purva Phalguni', 'Maasa:': 'Bhadrapada'}\n",
            "tithi     start time\n",
            "1 2015-09-13 06:40:43.000\n",
            "2 2015-09-14 09:18:22.000\n",
            "3 2015-09-15 11:57:29.000\n",
            "4 2015-09-16 14:30:54.000\n",
            "5 2015-09-17 16:50:03.000\n",
            "6 2015-09-18 18:45:49.000\n",
            "7 2015-09-19 20:09:26.000\n",
            "8 2015-09-20 20:53:31.000\n",
            "9 2015-09-21 20:53:06.000\n",
            "10 2015-09-22 20:05:25.000\n",
            "11 2015-09-23 18:34:11.000\n",
            "12 2015-09-24 16:20:48.000\n",
            "13 2015-09-25 13:30:20.000\n",
            "14 2015-09-26 10:12:51.000\n",
            "15 2015-09-27 06:36:22.000\n",
            "16 2015-09-28 02:51:03.000\n",
            "17 2015-09-28 23:04:17.000\n",
            "18 2015-09-29 19:28:07.000\n",
            "19 2015-09-30 16:12:20.000\n",
            "20 2015-10-01 13:25:46.000\n",
            "21 2015-10-02 11:15:56.000\n",
            "22 2015-10-03 09:49:20.000\n",
            "23 2015-10-04 09:08:24.000\n",
            "24 2015-10-05 09:16:43.000\n",
            "25 2015-10-06 10:08:04.000\n",
            "26 2015-10-07 11:40:15.000\n",
            "27 2015-10-08 13:43:54.000\n",
            "28 2015-10-09 16:09:29.000\n",
            "29 2015-10-10 18:48:14.000\n",
            "30 2015-10-11 21:28:29.000\n",
            "\n",
            "RUNNING 4\n",
            "running tithi: 6                     \n",
            "running tithi: 11                     \n",
            "running tithi: 16                     \n",
            "running tithi: 21                     \n",
            "running tithi: 26                     \n",
            "\n",
            "The month of 2021-1-20 13:00\n",
            "{'sun naksatra at month beginning:': 'Uttarashada', 'Maasa:': 'Pausa'}\n",
            "tithi     start time\n",
            "1 2021-01-13 04:59:06.000\n",
            "2 2021-01-14 03:31:59.000\n",
            "3 2021-01-15 02:34:09.000\n",
            "4 2021-01-16 02:16:12.000\n",
            "5 2021-01-17 02:39:02.000\n",
            "6 2021-01-18 03:44:12.000\n",
            "7 2021-01-19 05:29:08.000\n",
            "8 2021-01-20 07:45:06.000\n",
            "9 2021-01-21 10:19:57.000\n",
            "10 2021-01-22 12:58:41.000\n",
            "11 2021-01-23 15:25:49.000\n",
            "12 2021-01-24 17:27:47.000\n",
            "13 2021-01-25 18:54:47.000\n",
            "14 2021-01-26 19:41:38.000\n",
            "15 2021-01-27 19:47:38.000\n",
            "16 2021-01-28 19:16:04.000\n",
            "17 2021-01-29 18:12:32.000\n",
            "18 2021-01-30 16:43:15.000\n",
            "19 2021-01-31 14:55:26.000\n",
            "20 2021-02-01 12:55:44.000\n",
            "21 2021-02-02 10:49:58.000\n",
            "22 2021-02-03 08:42:57.000\n",
            "23 2021-02-04 06:38:09.000\n",
            "24 2021-02-05 04:37:53.000\n",
            "25 2021-02-06 02:43:37.000\n",
            "26 2021-02-07 00:56:33.000\n",
            "27 2021-02-07 23:17:17.000\n",
            "28 2021-02-08 21:49:42.000\n",
            "29 2021-02-09 20:35:40.000\n",
            "30 2021-02-10 19:39:20.000\n",
            "\n",
            "RUNNING 5\n",
            "running tithi: 6                     \n",
            "running tithi: 11                     \n",
            "running tithi: 16                     \n",
            "running tithi: 21                     \n",
            "running tithi: 26                     \n",
            "\n",
            "The month of 2026-3-20 13:00\n",
            "{'sun naksatra at month beginning:': 'Uttarabhadra', 'Maasa:': 'Caitra'}\n",
            "tithi     start time\n",
            "1 2026-03-19 01:23:08.000\n",
            "2 2026-03-19 23:23:31.000\n",
            "3 2026-03-20 21:01:07.000\n",
            "4 2026-03-21 18:26:29.000\n",
            "5 2026-03-22 15:46:28.000\n",
            "6 2026-03-23 13:08:10.000\n",
            "7 2026-03-24 10:37:43.000\n",
            "8 2026-03-25 08:20:07.000\n",
            "9 2026-03-26 06:19:06.000\n",
            "10 2026-03-27 04:37:16.000\n",
            "11 2026-03-28 03:17:21.000\n",
            "12 2026-03-29 02:17:12.000\n",
            "13 2026-03-30 01:40:07.000\n",
            "14 2026-03-31 01:26:48.000\n",
            "15 2026-04-01 01:36:45.000\n",
            "16 2026-04-02 02:12:05.000\n",
            "17 2026-04-03 03:13:10.000\n",
            "18 2026-04-04 04:39:59.000\n",
            "19 2026-04-05 06:30:52.000\n",
            "20 2026-04-06 08:41:44.000\n",
            "21 2026-04-07 11:05:35.000\n",
            "22 2026-04-08 13:32:28.000\n",
            "23 2026-04-09 15:50:56.000\n",
            "24 2026-04-10 17:45:43.000\n",
            "25 2026-04-11 19:07:35.000\n",
            "26 2026-04-12 19:47:15.000\n",
            "27 2026-04-13 19:40:11.000\n",
            "28 2026-04-14 18:42:31.000\n",
            "29 2026-04-15 17:00:57.000\n",
            "30 2026-04-16 14:42:32.000\n",
            "\n",
            "RUNNING 6\n"
          ],
          "name": "stdout"
        },
        {
          "output_type": "stream",
          "text": [
            "/usr/local/lib/python3.7/dist-packages/erfa/core.py:155: ErfaWarning: ERFA function \"dtf2d\" yielded 1 of \"dubious year (Note 6)\"\n",
            "  ErfaWarning)\n",
            "/usr/local/lib/python3.7/dist-packages/erfa/core.py:155: ErfaWarning: ERFA function \"utctai\" yielded 1 of \"dubious year (Note 3)\"\n",
            "  ErfaWarning)\n",
            "/usr/local/lib/python3.7/dist-packages/erfa/core.py:155: ErfaWarning: ERFA function \"taiutc\" yielded 1 of \"dubious year (Note 4)\"\n",
            "  ErfaWarning)\n",
            "/usr/local/lib/python3.7/dist-packages/erfa/core.py:155: ErfaWarning: ERFA function \"d2dtf\" yielded 1 of \"dubious year (Note 5)\"\n",
            "  ErfaWarning)\n"
          ],
          "name": "stderr"
        },
        {
          "output_type": "stream",
          "text": [
            "running tithi: 6                     \n",
            "running tithi: 11                     \n",
            "running tithi: 16                     \n",
            "running tithi: 21                     \n",
            "running tithi: 26                     \n",
            "\n",
            "The month of 2034-6-20 13:00\n",
            "{'sun naksatra at month beginning:': 'Mrighasira', 'Maasa:': 'Asadha'}\n",
            "tithi     start time\n",
            "1 2034-06-16 10:25:42.000\n",
            "2 2034-06-17 07:15:35.000\n",
            "3 2034-06-18 04:31:46.000\n",
            "4 2034-06-19 02:24:01.000\n",
            "5 2034-06-20 01:00:31.000\n",
            "6 2034-06-21 00:25:54.000\n",
            "7 2034-06-22 00:43:23.000\n",
            "8 2034-06-23 01:47:16.000\n",
            "9 2034-06-24 03:32:14.000\n",
            "10 2034-06-25 05:46:21.000\n",
            "11 2034-06-26 08:12:29.000\n",
            "12 2034-06-27 10:42:13.000\n",
            "13 2034-06-28 13:00:19.000\n",
            "14 2034-06-29 14:59:27.000\n",
            "15 2034-06-30 16:34:47.000\n",
            "16 2034-07-01 17:44:27.000\n",
            "17 2034-07-02 18:28:38.000\n",
            "18 2034-07-03 18:48:06.000\n",
            "19 2034-07-04 18:45:31.000\n",
            "20 2034-07-05 18:20:30.000\n",
            "21 2034-07-06 17:33:13.000\n",
            "22 2034-07-07 16:24:43.000\n",
            "23 2034-07-08 14:53:24.000\n",
            "24 2034-07-09 12:59:46.000\n",
            "25 2034-07-10 10:45:03.000\n",
            "26 2034-07-11 08:11:54.000\n",
            "27 2034-07-12 05:24:37.000\n",
            "28 2034-07-13 02:29:15.000\n",
            "29 2034-07-13 23:33:42.000\n",
            "30 2034-07-14 20:45:33.000\n",
            "\n"
          ],
          "name": "stdout"
        }
      ]
    },
    {
      "cell_type": "markdown",
      "metadata": {
        "id": "HRd5dPKAjXnQ"
      },
      "source": [
        "# Finding the value of precession correction \n",
        "\n",
        "Best value from Adika Maasa from 1910 to 2021: cor=**[3.94, 4.08]** or asvina_start=**[23.82, 23.96]** (J2000 ecliptic coordinates)\n",
        "\n",
        "Update: It is actually Lahiri ayanamsa, which is **23.8564** at J2000, i.e. cor = **3.977**\n",
        "\n",
        "The Lahiri Ayanamsa is actually based on Citrapaksa, i.e. 180° opposite Citra (Spica). Based on the actual coordinates of Spica (ra=13h25m11.579s, dec=−11°09′40.75″ in J2000 equinox ICRS coordinates), we get ayanamsa = **23.836**\n",
        "\n",
        "Most reliable value so far: ***ayanamsa = 23.836***\n"
      ]
    },
    {
      "cell_type": "markdown",
      "metadata": {
        "id": "cXmTmfNfjwgJ"
      },
      "source": [
        "i.e. Asvini naksatra starts at Zeta Piscium + cor.\n",
        "\n",
        "The lahiri calculation uses Spica (Chitra) at 0 Libra (source:http://www.saravali.de/articles/aya_basics.html . Please verify.)"
      ]
    },
    {
      "cell_type": "markdown",
      "metadata": {
        "id": "GtyeSpBy7df7"
      },
      "source": [
        "### Using last many years of Adhika maasa to constrain the correction\n",
        "Note that the correct thing to do below is to not account for Earth's precession. This is because every GCRS and Ecliptic coordinate value is with respect to the J2000 equinox. Thus, the Earth can precess all it wants, but since we're in the J2000 frame, we only have a fixed deviation of the Naksatras."
      ]
    },
    {
      "cell_type": "code",
      "metadata": {
        "id": "cq1_k6vUl5cc"
      },
      "source": [
        "def cor_range(date_,accuracy=0.01,precession=False,start=3.5,end=4.3,step=0.1):\n",
        "    st,et,_,_ = find_masa_start_end_date(date_,accuracy=accuracy,cor=0.0) # st=start_time, et=end_time\n",
        "    _,ss = get_sun_moon_Ec(st) # ss,es = start and end sun positions respectively\n",
        "    _,es = get_sun_moon_Ec(et)\n",
        "    date_ = astropy_to_datetime(date_)\n",
        "    delta_ = (date_ - datetime(2000,1,1,0,0,0)).days/(26000*365)*360\n",
        "    if not precession: delta_=0\n",
        "    print(\"delta:\",delta_)\n",
        "\n",
        "    cor_cor = []\n",
        "    for cor in np.arange(start,end,step):\n",
        "        sr,er = find_rasi_Ec(ss.lon,cor=cor-delta_),find_rasi_Ec(es.lon,cor=cor-delta_) # sn,en = start and end rasi respectively.\n",
        "        #sr = find_rasi_Ec(ss.lon,cor=cor)\n",
        "        #er = find_rasi_Ec(es.lon,cor=cor)\n",
        "        if sr==er:\n",
        "          cor_cor += [cor]\n",
        "    if cor_cor == []: return -1,-1\n",
        "    return np.min(cor_cor),np.max(cor_cor)"
      ],
      "execution_count": null,
      "outputs": []
    },
    {
      "cell_type": "code",
      "metadata": {
        "colab": {
          "base_uri": "https://localhost:8080/"
        },
        "id": "6iqgUTLyjmaX",
        "outputId": "bb55dfc0-2c65-4b6d-c5fa-77548fcf5898"
      },
      "source": [
        "# adhik maasa-s occur for the dates below\n",
        "dates_ = [date(1993,8,19),date(1996,6,17),date(1999,5,17),date(2001,9,18),date(2004,7,19),date(2007,5,18),date(2010,4,16),date(2012,8,19),date(2015,6,18)]\n",
        "\n",
        "mins = []\n",
        "maxs = []\n",
        "for i,date_ in enumerate(dates_):\n",
        "    date_ = datetime_to_astropy(date_)\n",
        "    c_min,c_max = cor_range(date_)\n",
        "    mins += [c_min]\n",
        "    maxs += [c_max]\n",
        "print(mins)\n",
        "print(maxs)\n",
        "print(\"range:\",np.max(mins),np.min(maxs))\n",
        "print()\n",
        "\n",
        "mins = []\n",
        "maxs = []\n",
        "for i,date_ in enumerate(dates_):\n",
        "    date_ = datetime_to_astropy(date_)\n",
        "    c_min,c_max = cor_range(date_,precession=False)\n",
        "    mins += [c_min]\n",
        "    maxs += [c_max]\n",
        "print(mins)\n",
        "print(maxs)\n",
        "print(\"range (no precession):\",np.max(mins),np.min(maxs))"
      ],
      "execution_count": null,
      "outputs": [
        {
          "output_type": "stream",
          "text": [
            "delta: -0.08823603793466808\n",
            "delta: -0.049049525816649106\n",
            "delta: -0.008687038988408852\n",
            "delta: 0.023747102212855635\n",
            "delta: 0.06300948366701792\n",
            "delta: 0.1021959957850369\n",
            "delta: 0.14255848261327714\n",
            "delta: 0.17503055848261329\n",
            "delta: 0.21421707060063225\n",
            "[3.4000000000000004, 3.6000000000000005, 3.2, 3.7000000000000006, 3.7000000000000006, 3.8000000000000007, 3.3000000000000003, 3.8000000000000007, 3.4000000000000004]\n",
            "[4.700000000000001, 4.700000000000001, 4.300000000000001, 4.700000000000001, 4.700000000000001, 4.700000000000001, 4.500000000000002, 4.700000000000001, 4.700000000000001]\n",
            "range: 3.8000000000000007 4.300000000000001\n",
            "\n",
            "delta: 0\n",
            "delta: 0\n",
            "delta: 0\n",
            "delta: 0\n",
            "delta: 0\n",
            "delta: 0\n",
            "delta: 0\n",
            "delta: 0\n",
            "delta: 0\n",
            "[3.5000000000000004, 3.6000000000000005, 3.2, 3.6000000000000005, 3.6000000000000005, 3.7000000000000006, 3.2, 3.6000000000000005, 3.2]\n",
            "[4.700000000000001, 4.700000000000001, 4.300000000000001, 4.600000000000001, 4.700000000000001, 4.700000000000001, 4.400000000000001, 4.700000000000001, 4.700000000000001]\n",
            "range (no precession): 3.7000000000000006 4.300000000000001\n"
          ],
          "name": "stdout"
        }
      ]
    },
    {
      "cell_type": "code",
      "metadata": {
        "colab": {
          "base_uri": "https://localhost:8080/"
        },
        "id": "2prBeJsrprv0",
        "outputId": "fbdc7269-6a15-4902-ab94-045fd52050b0"
      },
      "source": [
        "more_dates = [date(1980,5,19),date(1983,2,18),date(1985,7,22),date(1988,5,23)]\n",
        "\n",
        "mins = []\n",
        "maxs = []\n",
        "for i,date_ in enumerate(more_dates):\n",
        "    date_ = datetime_to_astropy(date_)\n",
        "    c_min,c_max = cor_range(date_)\n",
        "    mins += [c_min]\n",
        "    maxs += [c_max]\n",
        "print(mins)\n",
        "print(maxs)\n",
        "print(\"range:\",np.max(mins),np.min(maxs))\n",
        "print()\n",
        "\n",
        "mins = []\n",
        "maxs = []\n",
        "for i,date_ in enumerate(more_dates):\n",
        "    date_ = datetime_to_astropy(date_)\n",
        "    c_min,c_max = cor_range(date_,precession=False)\n",
        "    mins += [c_min]\n",
        "    maxs += [c_max]\n",
        "print(mins)\n",
        "print(maxs)\n",
        "print(\"range (no precession):\",np.max(mins),np.min(maxs))\n"
      ],
      "execution_count": null,
      "outputs": [
        {
          "output_type": "stream",
          "text": [
            "delta: -0.2718398314014753\n",
            "delta: -0.2337154899894626\n",
            "delta: -0.20014330874604846\n",
            "delta: -0.16084299262381455\n",
            "[3.2, 3.7000000000000006, 3.7000000000000006, 3.7000000000000006]\n",
            "[3.900000000000001, 3.8000000000000007, 4.700000000000001, 4.700000000000001]\n",
            "range: 3.7000000000000006 3.8000000000000007\n",
            "\n",
            "delta: 0\n",
            "delta: 0\n",
            "delta: 0\n",
            "delta: 0\n",
            "[3.2, 4.000000000000001, 3.900000000000001, 3.900000000000001]\n",
            "[4.200000000000001, 4.000000000000001, 4.700000000000001, 4.700000000000001]\n",
            "range (no precession): 4.000000000000001 4.000000000000001\n"
          ],
          "name": "stdout"
        }
      ]
    },
    {
      "cell_type": "code",
      "metadata": {
        "colab": {
          "base_uri": "https://localhost:8080/"
        },
        "id": "x8TTyEs1tfdN",
        "outputId": "25b98ff7-d50d-4b46-9627-6676b8e031b6"
      },
      "source": [
        "more_dates = [date(1972,4,25),date(1974,8,20),date(1977,7,25)]\n",
        "\n",
        "mins = []\n",
        "maxs = []\n",
        "for i,date_ in enumerate(more_dates):\n",
        "    date_ = datetime_to_astropy(date_)\n",
        "    c_min,c_max = cor_range(date_)\n",
        "    mins += [c_min]\n",
        "    maxs += [c_max]\n",
        "print(mins)\n",
        "print(maxs)\n",
        "print(\"range:\",np.max(mins),np.min(maxs))\n",
        "print()\n",
        "\n",
        "mins = []\n",
        "maxs = []\n",
        "for i,date_ in enumerate(more_dates):\n",
        "    date_ = datetime_to_astropy(date_)\n",
        "    c_min,c_max = cor_range(date_,precession=False)\n",
        "    mins += [c_min]\n",
        "    maxs += [c_max]\n",
        "print(mins)\n",
        "print(maxs)\n",
        "print(\"range (no precession):\",np.max(mins),np.min(maxs))"
      ],
      "execution_count": null,
      "outputs": [
        {
          "output_type": "stream",
          "text": [
            "delta: -0.38359536354056906\n",
            "delta: -0.3514646996838777\n",
            "delta: -0.3108746048472076\n",
            "[3.2, 3.2, 3.2]\n",
            "[4.100000000000001, 4.500000000000002, 3.8000000000000007]\n",
            "range: 3.2 3.8000000000000007\n",
            "\n",
            "delta: 0\n",
            "delta: 0\n",
            "delta: 0\n",
            "[3.2, 3.4000000000000004, 3.2]\n",
            "[4.500000000000002, 4.700000000000001, 4.100000000000001]\n",
            "range (no precession): 3.4000000000000004 4.100000000000001\n"
          ],
          "name": "stdout"
        }
      ]
    },
    {
      "cell_type": "code",
      "metadata": {
        "colab": {
          "base_uri": "https://localhost:8080/"
        },
        "id": "nmkbq7raCpgi",
        "outputId": "7fe91735-947f-4b4d-cdf8-1ce08402f41e"
      },
      "source": [
        "dates_ = [date(1972,4,25),date(1915,4,25),date(1934,4,25),date(1953,4,25)]\n",
        "mins = []\n",
        "maxs = []\n",
        "\n",
        "for date_ in dates_:\n",
        "    date_ = datetime_to_astropy(date_)\n",
        "    sd,ed,masa,_ = find_masa_start_end_date(date_)\n",
        "\n",
        "    c_min,c_max = cor_range(date_,accuracy=0.001,precession=False,start=3.8,end=4.3,step=0.02)\n",
        "    mins += [c_min]\n",
        "    maxs += [c_max]\n",
        "    print(masa,sd,ed)\n",
        "    print()\n",
        "\n",
        "print(mins)\n",
        "print(maxs)\n",
        "print(\"range (no precession):\",np.max(mins),np.min(maxs))"
      ],
      "execution_count": null,
      "outputs": [
        {
          "output_type": "stream",
          "text": [
            "delta: 0\n",
            "Vaisakha 1972-04-13 20:37:22.000 1972-05-13 04:00:32.000\n",
            "\n"
          ],
          "name": "stdout"
        },
        {
          "output_type": "stream",
          "text": [
            "/usr/local/lib/python3.7/dist-packages/erfa/core.py:155: ErfaWarning: ERFA function \"dtf2d\" yielded 1 of \"dubious year (Note 6)\"\n",
            "  ErfaWarning)\n",
            "/usr/local/lib/python3.7/dist-packages/erfa/core.py:155: ErfaWarning: ERFA function \"d2dtf\" yielded 1 of \"dubious year (Note 5)\"\n",
            "  ErfaWarning)\n",
            "/usr/local/lib/python3.7/dist-packages/erfa/core.py:155: ErfaWarning: ERFA function \"utctai\" yielded 1 of \"dubious year (Note 3)\"\n",
            "  ErfaWarning)\n",
            "/usr/local/lib/python3.7/dist-packages/erfa/core.py:155: ErfaWarning: ERFA function \"taiutc\" yielded 1 of \"dubious year (Note 4)\"\n",
            "  ErfaWarning)\n"
          ],
          "name": "stderr"
        },
        {
          "output_type": "stream",
          "text": [
            "delta: 0\n",
            "Vaisakha 1915-04-14 11:30:01.000 1915-05-14 03:28:11.000\n",
            "\n",
            "delta: 0\n",
            "Vaisakha 1934-04-13 23:56:12.000 1934-05-13 12:28:59.000\n",
            "\n",
            "delta: 0\n",
            "Vaisakha 1953-04-13 20:12:17.000 1953-05-13 05:03:17.000\n",
            "\n",
            "[3.8, 3.8, 3.8, 3.8]\n",
            "[4.28, 4.28, 4.28, 4.28]\n",
            "range (no precession): 3.8 4.28\n"
          ],
          "name": "stdout"
        }
      ]
    },
    {
      "cell_type": "code",
      "metadata": {
        "colab": {
          "base_uri": "https://localhost:8080/"
        },
        "id": "CUKA21R7B-0V",
        "outputId": "6a9d6d31-0b61-4e41-c4f5-5fd29288039e"
      },
      "source": [
        "dates_ = [date(1931,6,25),date(1950,6,25),date(1969,6,25),date(1920,7,25),date(1939,7,25),date(1958,7,25),date(1945,3,18),date(1945,3,18),date(1964,3,18)]\n",
        "mins = []\n",
        "maxs = []\n",
        "\n",
        "for date_ in dates_:\n",
        "    date_ = datetime_to_astropy(date_)\n",
        "    sd,ed,masa,_ = find_masa_start_end_date(date_)\n",
        "\n",
        "    c_min,c_max = cor_range(date_,accuracy=0.001,precession=False,start=3.8,end=4.3,step=0.02)\n",
        "    mins += [c_min]\n",
        "    maxs += [c_max]\n",
        "    print(masa,sd,ed)\n",
        "    print()\n",
        "\n",
        "print(mins)\n",
        "print(maxs)\n",
        "print(\"range (no precession):\",np.max(mins),np.min(maxs))"
      ],
      "execution_count": null,
      "outputs": [
        {
          "output_type": "stream",
          "text": [
            "/usr/local/lib/python3.7/dist-packages/erfa/core.py:155: ErfaWarning: ERFA function \"dtf2d\" yielded 1 of \"dubious year (Note 6)\"\n",
            "  ErfaWarning)\n",
            "/usr/local/lib/python3.7/dist-packages/erfa/core.py:155: ErfaWarning: ERFA function \"d2dtf\" yielded 1 of \"dubious year (Note 5)\"\n",
            "  ErfaWarning)\n",
            "/usr/local/lib/python3.7/dist-packages/erfa/core.py:155: ErfaWarning: ERFA function \"utctai\" yielded 1 of \"dubious year (Note 3)\"\n",
            "  ErfaWarning)\n",
            "/usr/local/lib/python3.7/dist-packages/erfa/core.py:155: ErfaWarning: ERFA function \"taiutc\" yielded 1 of \"dubious year (Note 4)\"\n",
            "  ErfaWarning)\n"
          ],
          "name": "stderr"
        },
        {
          "output_type": "stream",
          "text": [
            "delta: 0\n",
            "Asadha 1931-06-16 03:06:15.000 1931-07-15 12:14:14.000\n",
            "\n",
            "delta: 0\n",
            "Asadha 1950-06-15 15:46:17.000 1950-07-15 04:53:15.000\n",
            "\n",
            "delta: 0\n",
            "Asadha 1969-06-14 23:07:12.000 1969-07-14 14:01:51.000\n",
            "\n",
            "delta: 0\n",
            "Sravana 1920-07-15 20:30:04.000 1920-08-14 03:39:45.000\n",
            "\n",
            "delta: 0\n",
            "Sravana 1939-07-16 21:07:22.000 1939-08-15 03:45:47.000\n",
            "\n",
            "delta: 0\n",
            "Sravana 1958-07-16 18:31:21.000 1958-08-15 03:30:57.000\n",
            "\n",
            "delta: 0\n",
            "Caitra 1945-03-14 03:44:20.000 1945-04-12 12:33:38.000\n",
            "\n",
            "delta: 0\n",
            "Caitra 1945-03-14 03:44:20.000 1945-04-12 12:33:38.000\n",
            "\n",
            "delta: 0\n",
            "Caitra 1964-03-14 02:22:37.000 1964-04-12 12:38:49.000\n",
            "\n",
            "[3.8, 3.8, 3.8, 3.8, 3.8, 3.8, 3.8, 3.8, 3.8]\n",
            "[4.28, 4.28, 4.220000000000001, 4.2, 4.28, 4.28, 4.08, 4.08, 4.140000000000001]\n",
            "range (no precession): 3.8 4.08\n"
          ],
          "name": "stdout"
        }
      ]
    },
    {
      "cell_type": "markdown",
      "metadata": {
        "id": "i0uOpwor5k0i"
      },
      "source": [
        "----------------------------------------------------------------------------\n",
        "### The date date(1983,2,18) seems to be constraining tremendously. Let's look at it in detail"
      ]
    },
    {
      "cell_type": "code",
      "metadata": {
        "colab": {
          "base_uri": "https://localhost:8080/"
        },
        "id": "i7FNaO4iyFby",
        "outputId": "c0952282-2d20-411c-ae09-6b65e2255139"
      },
      "source": [
        "\n",
        "accuracy = 0.001\n",
        "precession = False\n",
        "date_ = datetime_to_astropy(date(1983,2,18))\n",
        "\n",
        "st,et,masa,_ = find_masa_start_end_date(date_,accuracy=accuracy,cor=0.0) # st=start_time, et=end_time\n",
        "_,ss = get_sun_moon_Ec(st) # ss,es = start and end sun positions respectively\n",
        "_,es = get_sun_moon_Ec(et)\n",
        "date_ = astropy_to_datetime(date_)\n",
        "delta_ = (date_ - datetime(2000,1,1,0,0,0)).days/(26000*365)*360\n",
        "if not precession: delta_=0\n",
        "print(\"delta:\",delta_)\n",
        "\n",
        "cor_cor = []\n",
        "for cor in np.arange(3.90,4.10,0.01):\n",
        "    sr,er = find_rasi_Ec(ss.lon,cor=cor-delta_),find_rasi_Ec(es.lon,cor=cor-delta_) # sn,en = start and end rasi respectively.\n",
        "    #sr = find_rasi_Ec(ss.lon,cor=cor)\n",
        "    #er = find_rasi_Ec(es.lon,cor=cor)\n",
        "    if sr==er:\n",
        "      cor_cor += [cor]\n",
        "\n",
        "\n",
        "print(cor_cor)\n",
        "print(np.min(cor_cor),np.max(cor_cor))\n",
        "print(masa)"
      ],
      "execution_count": null,
      "outputs": [
        {
          "output_type": "stream",
          "text": [
            "delta: 0\n",
            "[3.939999999999999, 3.949999999999999, 3.9599999999999986, 3.9699999999999984, 3.979999999999998, 3.989999999999998, 3.999999999999998, 4.009999999999998, 4.019999999999998, 4.029999999999998, 4.039999999999997, 4.049999999999997, 4.059999999999997, 4.069999999999997, 4.0799999999999965]\n",
            "3.939999999999999 4.0799999999999965\n",
            "Phalguna\n"
          ],
          "name": "stdout"
        }
      ]
    },
    {
      "cell_type": "markdown",
      "metadata": {
        "id": "DM0m6IYr5_Lt"
      },
      "source": [
        "----------------------------------------------------------------------------\n",
        "### Best constraint so far: **[3.94, 4.08]**\n",
        "### Actual Value of the Asvini starting angle = 19.879554934503027 + [3.94, 4.08] = **[23.82, 23.96]**\n",
        "### Update: It is actually Lahiri ayanamsa, which is **23.8564** at J2000, i.e. cor = 19.879555 + 23.856389 = 3.977\n",
        "----------------------------------------------------------------------------\n",
        "Pro tip: This māsa is Phālguna. It has very tight constraints probably because the Earth moves very quickly through this Rāśī. Look for other Phalguna adhika māsa-s to get other strong constraints. Maybe the months near Phalguna, i.e. Magha, Caitra, Vaisakha, can also lead to constraints.\n",
        "\n",
        "The conclusion about Lahiri ayanamsa is found by matching to www.drikpanchang.com"
      ]
    },
    {
      "cell_type": "code",
      "metadata": {
        "colab": {
          "base_uri": "https://localhost:8080/"
        },
        "id": "98un0HqlYByv",
        "outputId": "5ea1a369-4197-47f4-a01d-9c28979a0604"
      },
      "source": [
        "\n",
        "cor = 23+51/60+23/3600-19.879554934503027\n",
        "print(cor)"
      ],
      "execution_count": null,
      "outputs": [
        {
          "output_type": "stream",
          "text": [
            "3.9768339543858637\n"
          ],
          "name": "stdout"
        }
      ]
    },
    {
      "cell_type": "markdown",
      "metadata": {
        "id": "tGNR9WYduxV5"
      },
      "source": [
        "### Calculating Lahiri Ayanamsa from definition, i.e. 180deg from Citra (Spica)"
      ]
    },
    {
      "cell_type": "code",
      "metadata": {
        "colab": {
          "base_uri": "https://localhost:8080/"
        },
        "id": "YIgSOw1Lu7V3",
        "outputId": "0114cc60-18ff-4c97-fbdc-c901d941e5c6"
      },
      "source": [
        "# Coordinates of Spica in ICRS J2000 coordinates ra=13h25m11.579s, dec=−11°09′40.75″\n",
        "coord_Spica_ICRS = SkyCoord(ra='13h25m11.579s', dec='−11d09m40.75s', frame='icrs', equinox=Time(2000, format='jyear')) \n",
        "coord_Spica_GTE = coord_Spica_ICRS.transform_to(GeocentricTrueEcliptic())\n",
        "print(\"Citra coordinates:\",coord_Spica_GTE)\n",
        "ayanamsa = coord_Spica_GTE.lon.degree - 180\n",
        "print(\"Citrapaksa ayanamsa:\",ayanamsa)"
      ],
      "execution_count": null,
      "outputs": [
        {
          "output_type": "stream",
          "text": [
            "Citra coordinates: <SkyCoord (GeocentricTrueEcliptic: equinox=2000.0, obstime=J2000.000): (lon, lat, distance) in (deg, deg, )\n",
            "    (203.83614302, -2.05428596, 1.)>\n",
            "Citrapaksa ayanamsa: 23.836143024753255\n"
          ],
          "name": "stdout"
        }
      ]
    },
    {
      "cell_type": "markdown",
      "metadata": {
        "id": "bzr3uEcNLfse"
      },
      "source": [
        "# Misc Stuff, Random Experiments"
      ]
    },
    {
      "cell_type": "markdown",
      "metadata": {
        "id": "QpQnTgAYShAg"
      },
      "source": [
        "### predicting ksaya masa correctly. \n",
        "\n",
        "One before 1983 adhika (Magha is ksaya between Asvina and Phalguna),\n",
        "\n",
        "another before 1964 adhika (Margasirsa is ksaya between Kartika and Caitra)"
      ]
    },
    {
      "cell_type": "code",
      "metadata": {
        "colab": {
          "base_uri": "https://localhost:8080/"
        },
        "id": "j06uk5QWLj9G",
        "outputId": "400cc6a8-5bf9-4d60-fc2e-a2fb12e63fc1"
      },
      "source": [
        "# predicting ksaya masa correctly. \n",
        "# One before 1983 adhika (Magha is ksaya between Asvina and Phalguna),\n",
        "# another before 1964 adhika (Margasirsa is ksaya between Kartika and Caitra)\n",
        "\n",
        "d_s = date(1982,2,1)\n",
        "\n",
        "dt = d_s\n",
        "ms_l = []\n",
        "i = 0\n",
        "while dt<date(1984,2,1):\n",
        "  if i%12==0: print(i/12)\n",
        "  s,e,ms,_ = find_masa_start_end_date(t=datetime_to_astropy(dt),accuracy=0.01,cor=4.0)\n",
        "  ms_l += [(ms,s)]\n",
        "  dt = astropy_to_date(e) + timedelta(days=2)\n",
        "  i += 1\n",
        "print(\"Adhika Masa-s\")\n",
        "adhika = []\n",
        "for i,(m,d) in enumerate(ms_l[0:-1]):\n",
        "    (m2,_) = ms_l[i+1]\n",
        "    if m==m2:\n",
        "      print(m,d)\n",
        "      adhika += [(m,d)]\n",
        "\n",
        "print()\n",
        "print(\"All Masa-s around the 2 adhikas\")\n",
        "for (m,d) in ms_l[7:-7]:\n",
        "    print(m,d)"
      ],
      "execution_count": null,
      "outputs": [
        {
          "output_type": "stream",
          "text": [
            "0.0\n",
            "1.0\n",
            "2.0\n",
            "Adhika Masa-s\n",
            "Asvina 1982-09-17 12:09:16.000\n",
            "Phalguna 1983-02-13 00:31:30.000\n",
            "\n",
            "All Masa-s around the 2 adhikas\n",
            "Bhadrapada 1982-08-19 02:45:07.000\n",
            "Asvina 1982-09-17 12:09:16.000\n",
            "Asvina 1982-10-17 00:04:05.000\n",
            "Kartika 1982-11-15 15:09:42.000\n",
            "Mrgashirsha 1982-12-15 09:17:27.000\n",
            "Pausa 1983-01-14 05:07:17.000\n",
            "Phalguna 1983-02-13 00:31:30.000\n",
            "Phalguna 1983-03-14 17:43:12.000\n",
            "Caitra 1983-04-13 07:58:18.000\n",
            "Vaisakha 1983-05-12 19:25:17.000\n",
            "Jyestha 1983-06-11 04:37:55.000\n"
          ],
          "name": "stdout"
        }
      ]
    },
    {
      "cell_type": "code",
      "metadata": {
        "colab": {
          "base_uri": "https://localhost:8080/"
        },
        "id": "nJExV22lQRpI",
        "outputId": "eaa7b485-234d-4ed7-84fb-7b565aa87298"
      },
      "source": [
        "# predicting ksaya masa correctly. \n",
        "# One before 1983 adhika (Magha is ksaya between Asvina and Phalguna),\n",
        "# another before 1964 adhika (Margasirsa is ksaya between Kartika and Caitra)\n",
        "\n",
        "d_s = date(1963,2,1)\n",
        "\n",
        "dt = d_s\n",
        "ms_l = []\n",
        "i = 0\n",
        "while dt<date(1965,2,1):\n",
        "  if i%12==0: print(i/12)\n",
        "  s,e,ms,_ = find_masa_start_end_date(t=datetime_to_astropy(dt),accuracy=0.01,cor=4.0)\n",
        "  ms_l += [(ms,s)]\n",
        "  dt = astropy_to_date(e) + timedelta(days=2)\n",
        "  i += 1\n",
        "print(\"Adhika Masa-s\")\n",
        "adhika = []\n",
        "for i,(m,d) in enumerate(ms_l[0:-1]):\n",
        "    (m2,_) = ms_l[i+1]\n",
        "    if m==m2:\n",
        "      print(m,d)\n",
        "      adhika += [(m,d)]\n",
        "\n",
        "print()\n",
        "print(\"All Masa-s around the 2 adhikas\")\n",
        "for (m,d) in ms_l[7:-7]:\n",
        "    print(m,d)"
      ],
      "execution_count": null,
      "outputs": [
        {
          "output_type": "stream",
          "text": [
            "0.0\n",
            "1.0\n",
            "2.0\n",
            "Adhika Masa-s\n",
            "Kartika 1963-10-17 12:41:59.000\n",
            "Caitra 1964-03-14 02:13:08.000\n",
            "\n",
            "All Masa-s around the 2 adhikas\n",
            "Bhadrapada 1963-08-19 07:34:27.000\n",
            "Asvina 1963-09-17 20:50:27.000\n",
            "Kartika 1963-10-17 12:41:59.000\n",
            "Kartika 1963-11-16 06:49:40.000\n",
            "Pausa 1963-12-16 02:06:07.000\n",
            "Magha 1964-01-14 20:43:07.000\n",
            "Phalguna 1964-02-13 13:01:07.000\n",
            "Caitra 1964-03-14 02:13:08.000\n",
            "Caitra 1964-04-12 12:37:10.000\n",
            "Vaisakha 1964-05-11 21:00:47.000\n",
            "Jyestha 1964-06-10 04:22:04.000\n"
          ],
          "name": "stdout"
        }
      ]
    },
    {
      "cell_type": "markdown",
      "metadata": {
        "id": "_ZIytMwTVjpZ"
      },
      "source": [
        "### Predicting more Phalguna masa-s for tighter constraints"
      ]
    },
    {
      "cell_type": "code",
      "metadata": {
        "colab": {
          "resources": {
            "http://localhost:8080/nbextensions/google.colab/files.js": {
              "data": "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",
              "ok": true,
              "headers": [
                [
                  "content-type",
                  "application/javascript"
                ]
              ],
              "status": 200,
              "status_text": ""
            }
          },
          "base_uri": "https://localhost:8080/",
          "height": 140
        },
        "id": "NZ1EHCddj1UK",
        "outputId": "819c788b-3a52-40ac-cffd-20fd0fbb9a17"
      },
      "source": [
        "from google.colab import files\n",
        "\n",
        "uploaded = files.upload()"
      ],
      "execution_count": null,
      "outputs": [
        {
          "output_type": "display_data",
          "data": {
            "text/html": [
              "\n",
              "     <input type=\"file\" id=\"files-ef512f99-20ea-4e58-beff-baaafa033d5b\" name=\"files[]\" multiple disabled\n",
              "        style=\"border:none\" />\n",
              "     <output id=\"result-ef512f99-20ea-4e58-beff-baaafa033d5b\">\n",
              "      Upload widget is only available when the cell has been executed in the\n",
              "      current browser session. Please rerun this cell to enable.\n",
              "      </output>\n",
              "      <script src=\"/nbextensions/google.colab/files.js\"></script> "
            ],
            "text/plain": [
              "<IPython.core.display.HTML object>"
            ]
          },
          "metadata": {
            "tags": []
          }
        },
        {
          "output_type": "stream",
          "text": [
            "Saving listfile_2.txt to listfile_2 (1).txt\n",
            "Saving listfile_3.txt to listfile_3 (1).txt\n",
            "Saving listfile.txt to listfile (2).txt\n"
          ],
          "name": "stdout"
        }
      ]
    },
    {
      "cell_type": "code",
      "metadata": {
        "id": "ItcUWA4nu-UC"
      },
      "source": [
        "f1 = uploaded['listfile.txt'].decode(\"utf-8\") \n",
        "f2 = uploaded['listfile_2.txt'].decode(\"utf-8\") \n",
        "f3 = uploaded['listfile_3.txt'].decode(\"utf-8\") "
      ],
      "execution_count": null,
      "outputs": []
    },
    {
      "cell_type": "code",
      "metadata": {
        "colab": {
          "base_uri": "https://localhost:8080/"
        },
        "id": "nqSKbQlKvFuP",
        "outputId": "0bbc3021-5830-4cb7-9421-5634bd2436ee"
      },
      "source": [
        "files = [f1,f2,f3]\n",
        "new_files = []\n",
        "for f in files:\n",
        "  f = f.split('\\n')\n",
        "  f = [elem.split(',') for elem in f]\n",
        "  temp = []\n",
        "  for i,elem in enumerate(f):\n",
        "      try:\n",
        "        [ms,tm] = elem\n",
        "        ms = ms[2:-1]\n",
        "        tm = Time(tm[tm.rfind('=')+1:-2])\n",
        "        temp += [(ms,tm)]\n",
        "      except:\n",
        "        print(i,elem)\n",
        "  new_files += [temp]"
      ],
      "execution_count": null,
      "outputs": [
        {
          "output_type": "stream",
          "text": [
            "/usr/local/lib/python3.7/dist-packages/erfa/core.py:155: ErfaWarning: ERFA function \"dtf2d\" yielded 1 of \"dubious year (Note 6)\"\n",
            "  ErfaWarning)\n"
          ],
          "name": "stderr"
        },
        {
          "output_type": "stream",
          "text": [
            "613 ['']\n",
            "965 ['']\n",
            "521 ['']\n"
          ],
          "name": "stdout"
        }
      ]
    },
    {
      "cell_type": "code",
      "metadata": {
        "id": "_QJKJLf_ypoW"
      },
      "source": [
        ""
      ],
      "execution_count": null,
      "outputs": []
    }
  ]
}