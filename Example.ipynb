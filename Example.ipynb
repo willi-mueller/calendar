{
 "cells": [
  {
   "cell_type": "markdown",
   "metadata": {},
   "source": [
    "# Jiva Calendar Example"
   ]
  },
  {
   "cell_type": "code",
   "execution_count": 1,
   "metadata": {},
   "outputs": [],
   "source": [
    "import JivaCalendar_FrontEnd as jcf"
   ]
  },
  {
   "cell_type": "code",
   "execution_count": 2,
   "metadata": {},
   "outputs": [],
   "source": [
    "from pytz import timezone\n",
    "from geopy.geocoders import Nominatim\n",
    "geolocator = Nominatim(user_agent='myapplication')\n",
    "location = geolocator.geocode(\"Baltimore Maryland\")\n",
    "latitude,longitude = location.latitude, location.longitude"
   ]
  },
  {
   "cell_type": "code",
   "execution_count": 3,
   "metadata": {},
   "outputs": [],
   "source": [
    "moment = jcf.Pancanga(date=(2021,6,3),time=(21,17,0),location=(latitude,longitude),timezone=timezone('US/Eastern'))"
   ]
  },
  {
   "cell_type": "code",
   "execution_count": 4,
   "metadata": {},
   "outputs": [
    {
     "name": "stdout",
     "output_type": "stream",
     "text": [
      "1 : 2021-06-01\n",
      "2 : 2021-06-02\n",
      "3 : 2021-06-03\n",
      "4 : 2021-06-04\n",
      "5 : 2021-06-05\n",
      "6 : 2021-06-06\n",
      "7 : 2021-06-07\n",
      "8 : 2021-06-08\n",
      "9 : 2021-06-09\n",
      "10 : 2021-06-10\n",
      "11 : 2021-06-11\n",
      "12 : 2021-06-12\n",
      "13 : 2021-06-13\n",
      "14 : 2021-06-14\n",
      "15 : 2021-06-15\n",
      "16 : 2021-06-16\n",
      "17 : 2021-06-17\n",
      "18 : 2021-06-18\n",
      "19 : 2021-06-19\n",
      "20 : 2021-06-20\n",
      "21 : 2021-06-21\n",
      "22 : 2021-06-22\n",
      "23 : 2021-06-23\n",
      "24 : 2021-06-24\n",
      "25 : 2021-06-25\n",
      "26 : 2021-06-26\n",
      "27 : 2021-06-27\n",
      "28 : 2021-06-28\n",
      "29 : 2021-06-29\n",
      "30 : 2021-06-30\n"
     ]
    }
   ],
   "source": [
    "month_data = moment.get_pancanga_gregorian_month_Ec(verbose=True)"
   ]
  },
  {
   "cell_type": "code",
   "execution_count": 5,
   "metadata": {},
   "outputs": [
    {
     "data": {
      "text/plain": [
       "{'gregorian_date': datetime.datetime(2021, 6, 11, 4, 0, tzinfo=datetime.timezone.utc),\n",
       " 'sunrise': datetime.datetime(2021, 6, 11, 5, 39, 22, tzinfo=<DstTzInfo 'US/Eastern' EDT-1 day, 20:00:00 DST>),\n",
       " 'sunset': datetime.datetime(2021, 6, 11, 20, 33, 12, tzinfo=<DstTzInfo 'US/Eastern' EDT-1 day, 20:00:00 DST>),\n",
       " 'moonrise': datetime.datetime(2021, 6, 11, 6, 22, 34, tzinfo=<DstTzInfo 'US/Eastern' EDT-1 day, 20:00:00 DST>),\n",
       " 'moonset': datetime.datetime(2021, 6, 11, 21, 57, 24, tzinfo=<DstTzInfo 'US/Eastern' EDT-1 day, 20:00:00 DST>),\n",
       " 'masa': 'Jyestha',\n",
       " 'tithi': 1,\n",
       " 'tithi_end_time': datetime.datetime(2021, 6, 11, 13, 0, 56, tzinfo=datetime.timezone.utc),\n",
       " 'moon_naksatra': 'Ardra',\n",
       " 'sun_naksatra': 'Mrighasira',\n",
       " 'next_moon_sankramana': datetime.datetime(2021, 6, 12, 7, 25, 26, tzinfo=<DstTzInfo 'US/Eastern' EDT-1 day, 20:00:00 DST>),\n",
       " 'next_sun_sankramana': datetime.datetime(2021, 6, 21, 19, 43, tzinfo=<DstTzInfo 'US/Eastern' EDT-1 day, 20:00:00 DST>)}"
      ]
     },
     "execution_count": 5,
     "metadata": {},
     "output_type": "execute_result"
    }
   ],
   "source": [
    "# Each entry of month_data has all the data for one day of the month\n",
    "# e.g. month_data[10] has data for the 11th day.\n",
    "month_data[10]"
   ]
  },
  {
   "cell_type": "markdown",
   "metadata": {},
   "source": [
    "## accuracy and ayanamsa can be changed while calling the function\n",
    "Note: accuracy is our tolerance of planetary positions in degrees. Thus, smaller value of accuracy means more accurate predictions."
   ]
  },
  {
   "cell_type": "code",
   "execution_count": 6,
   "metadata": {},
   "outputs": [
    {
     "name": "stdout",
     "output_type": "stream",
     "text": [
      "1 : 2021-06-01\n",
      "2 : 2021-06-02\n",
      "3 : 2021-06-03\n",
      "4 : 2021-06-04\n",
      "5 : 2021-06-05\n",
      "6 : 2021-06-06\n",
      "7 : 2021-06-07\n",
      "8 : 2021-06-08\n",
      "9 : 2021-06-09\n",
      "10 : 2021-06-10\n",
      "11 : 2021-06-11\n",
      "12 : 2021-06-12\n",
      "13 : 2021-06-13\n",
      "14 : 2021-06-14\n",
      "15 : 2021-06-15\n",
      "16 : 2021-06-16\n",
      "17 : 2021-06-17\n",
      "18 : 2021-06-18\n",
      "19 : 2021-06-19\n",
      "20 : 2021-06-20\n",
      "21 : 2021-06-21\n",
      "22 : 2021-06-22\n",
      "23 : 2021-06-23\n",
      "24 : 2021-06-24\n",
      "25 : 2021-06-25\n",
      "26 : 2021-06-26\n",
      "27 : 2021-06-27\n",
      "28 : 2021-06-28\n",
      "29 : 2021-06-29\n",
      "30 : 2021-06-30\n"
     ]
    }
   ],
   "source": [
    "month_data = moment.get_pancanga_gregorian_month_Ec(accuracy=0.01,verbose=True)"
   ]
  },
  {
   "cell_type": "code",
   "execution_count": 7,
   "metadata": {},
   "outputs": [
    {
     "data": {
      "text/plain": [
       "{'gregorian_date': datetime.datetime(2021, 6, 1, 4, 0, tzinfo=datetime.timezone.utc),\n",
       " 'sunrise': datetime.datetime(2021, 6, 1, 5, 41, 42, tzinfo=<DstTzInfo 'US/Eastern' EDT-1 day, 20:00:00 DST>),\n",
       " 'sunset': datetime.datetime(2021, 6, 1, 20, 27, 18, tzinfo=<DstTzInfo 'US/Eastern' EDT-1 day, 20:00:00 DST>),\n",
       " 'moonrise': datetime.datetime(2021, 6, 2, 2, 3, 14, tzinfo=<DstTzInfo 'US/Eastern' EDT-1 day, 20:00:00 DST>),\n",
       " 'moonset': datetime.datetime(2021, 6, 1, 12, 4, 17, tzinfo=<DstTzInfo 'US/Eastern' EDT-1 day, 20:00:00 DST>),\n",
       " 'masa': 'Vaisakha',\n",
       " 'tithi': 22,\n",
       " 'tithi_end_time': datetime.datetime(2021, 6, 1, 19, 16, 35, tzinfo=datetime.timezone.utc),\n",
       " 'moon_naksatra': 'Dhanishta',\n",
       " 'sun_naksatra': 'Rohini',\n",
       " 'next_moon_sankramana': datetime.datetime(2021, 6, 1, 6, 35, 11, tzinfo=<DstTzInfo 'US/Eastern' EDT-1 day, 20:00:00 DST>),\n",
       " 'next_sun_sankramana': datetime.datetime(2021, 6, 7, 20, 37, tzinfo=<DstTzInfo 'US/Eastern' EDT-1 day, 20:00:00 DST>)}"
      ]
     },
     "execution_count": 7,
     "metadata": {},
     "output_type": "execute_result"
    }
   ],
   "source": [
    "month_data[0]"
   ]
  }
 ],
 "metadata": {
  "kernelspec": {
   "display_name": "utkenv",
   "language": "python",
   "name": "utkenv"
  },
  "language_info": {
   "codemirror_mode": {
    "name": "ipython",
    "version": 3
   },
   "file_extension": ".py",
   "mimetype": "text/x-python",
   "name": "python",
   "nbconvert_exporter": "python",
   "pygments_lexer": "ipython3",
   "version": "3.6.5"
  }
 },
 "nbformat": 4,
 "nbformat_minor": 2
}
