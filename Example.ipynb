{
 "cells": [
  {
   "cell_type": "markdown",
   "metadata": {},
   "source": [
    "# Jiva Calendar Example"
   ]
  },
  {
   "cell_type": "code",
   "execution_count": 1,
   "metadata": {},
   "outputs": [],
   "source": [
    "import JivaCalendar_FrontEnd as jcf"
   ]
  },
  {
   "cell_type": "code",
   "execution_count": 2,
   "metadata": {},
   "outputs": [],
   "source": [
    "from pytz import timezone\n",
    "from geopy.geocoders import Nominatim\n",
    "geolocator = Nominatim(user_agent='myapplication')\n",
    "location = geolocator.geocode(\"Baltimore Maryland\")\n",
    "latitude,longitude = location.latitude, location.longitude"
   ]
  },
  {
   "cell_type": "code",
   "execution_count": 3,
   "metadata": {},
   "outputs": [],
   "source": [
    "moment = jcf.Pancanga(date=(2021,6,3),time=(21,17,0),location=(latitude,longitude),timezone=timezone('US/Eastern'))"
   ]
  },
  {
   "cell_type": "code",
   "execution_count": 4,
   "metadata": {},
   "outputs": [
    {
     "name": "stdout",
     "output_type": "stream",
     "text": [
      "finished running.                       \n"
     ]
    }
   ],
   "source": [
    "month_data = moment.get_pancanga_gregorian_month_Ec(verbose=True)"
   ]
  },
  {
   "cell_type": "code",
   "execution_count": 5,
   "metadata": {},
   "outputs": [
    {
     "data": {
      "text/plain": [
       "{'gregorian_date': datetime.datetime(2021, 6, 11, 4, 0, tzinfo=datetime.timezone.utc),\n",
       " 'sunrise': datetime.datetime(2021, 6, 11, 5, 39, 22, tzinfo=<DstTzInfo 'US/Eastern' EDT-1 day, 20:00:00 DST>),\n",
       " 'sunset': datetime.datetime(2021, 6, 11, 20, 33, 12, tzinfo=<DstTzInfo 'US/Eastern' EDT-1 day, 20:00:00 DST>),\n",
       " 'moonrise': datetime.datetime(2021, 6, 11, 6, 22, 34, tzinfo=<DstTzInfo 'US/Eastern' EDT-1 day, 20:00:00 DST>),\n",
       " 'moonset': datetime.datetime(2021, 6, 11, 21, 57, 24, tzinfo=<DstTzInfo 'US/Eastern' EDT-1 day, 20:00:00 DST>),\n",
       " 'masa': 'Jyestha',\n",
       " 'tithi': 1,\n",
       " 'tithi_end_time': datetime.datetime(2021, 6, 11, 13, 0, 56, tzinfo=datetime.timezone.utc),\n",
       " 'moon_naksatra': 'Ardra',\n",
       " 'sun_naksatra': 'Mrighasira',\n",
       " 'next_moon_sankramana': datetime.datetime(2021, 6, 12, 7, 25, 26, tzinfo=<DstTzInfo 'US/Eastern' EDT-1 day, 20:00:00 DST>),\n",
       " 'next_sun_sankramana': datetime.datetime(2021, 6, 21, 19, 43, tzinfo=<DstTzInfo 'US/Eastern' EDT-1 day, 20:00:00 DST>)}"
      ]
     },
     "execution_count": 5,
     "metadata": {},
     "output_type": "execute_result"
    }
   ],
   "source": [
    "# Each entry of month_data has all the data for one day of the month\n",
    "# e.g. month_data[10] has data for the 11th day.\n",
    "month_data[10]"
   ]
  },
  {
   "cell_type": "markdown",
   "metadata": {},
   "source": [
    "## accuracy and ayanamsa can be changed while calling the function\n",
    "Note: accuracy is our tolerance of planetary positions in degrees. Thus, smaller value of accuracy means more accurate predictions."
   ]
  },
  {
   "cell_type": "code",
   "execution_count": 6,
   "metadata": {},
   "outputs": [
    {
     "name": "stdout",
     "output_type": "stream",
     "text": [
      "finished running.                       \n"
     ]
    }
   ],
   "source": [
    "month_data = moment.get_pancanga_gregorian_month_Ec(accuracy=0.01,verbose=True)"
   ]
  },
  {
   "cell_type": "code",
   "execution_count": 7,
   "metadata": {},
   "outputs": [
    {
     "data": {
      "text/plain": [
       "{'gregorian_date': datetime.datetime(2021, 6, 1, 4, 0, tzinfo=datetime.timezone.utc),\n",
       " 'sunrise': datetime.datetime(2021, 6, 1, 5, 41, 42, tzinfo=<DstTzInfo 'US/Eastern' EDT-1 day, 20:00:00 DST>),\n",
       " 'sunset': datetime.datetime(2021, 6, 1, 20, 27, 18, tzinfo=<DstTzInfo 'US/Eastern' EDT-1 day, 20:00:00 DST>),\n",
       " 'moonrise': datetime.datetime(2021, 6, 2, 2, 3, 14, tzinfo=<DstTzInfo 'US/Eastern' EDT-1 day, 20:00:00 DST>),\n",
       " 'moonset': datetime.datetime(2021, 6, 1, 12, 4, 17, tzinfo=<DstTzInfo 'US/Eastern' EDT-1 day, 20:00:00 DST>),\n",
       " 'masa': 'Vaisakha',\n",
       " 'tithi': 22,\n",
       " 'tithi_end_time': datetime.datetime(2021, 6, 1, 19, 16, 35, tzinfo=datetime.timezone.utc),\n",
       " 'moon_naksatra': 'Dhanishta',\n",
       " 'sun_naksatra': 'Rohini',\n",
       " 'next_moon_sankramana': datetime.datetime(2021, 6, 1, 6, 35, 11, tzinfo=<DstTzInfo 'US/Eastern' EDT-1 day, 20:00:00 DST>),\n",
       " 'next_sun_sankramana': datetime.datetime(2021, 6, 7, 20, 37, tzinfo=<DstTzInfo 'US/Eastern' EDT-1 day, 20:00:00 DST>)}"
      ]
     },
     "execution_count": 7,
     "metadata": {},
     "output_type": "execute_result"
    }
   ],
   "source": [
    "month_data[0]"
   ]
  },
  {
   "cell_type": "code",
   "execution_count": null,
   "metadata": {},
   "outputs": [],
   "source": []
  }
 ],
 "metadata": {
  "kernelspec": {
   "display_name": "utkenv",
   "language": "python",
   "name": "utkenv"
  },
  "language_info": {
   "codemirror_mode": {
    "name": "ipython",
    "version": 3
   },
   "file_extension": ".py",
   "mimetype": "text/x-python",
   "name": "python",
   "nbconvert_exporter": "python",
   "pygments_lexer": "ipython3",
   "version": "3.6.5"
  }
 },
 "nbformat": 4,
 "nbformat_minor": 2
}
